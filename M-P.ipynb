{
 "cells": [
  {
   "cell_type": "code",
   "execution_count": 1,
   "metadata": {},
   "outputs": [],
   "source": [
    "import numpy as np\n",
    "import matplotlib.pyplot as plt\n",
    "# 定义输入数据，有4种输入情况\n",
    "x = np.array([[0, 0], [0, 1], [1, 0], [1, 1]])\n",
    "# 输出期望值\n",
    "d = np.array([0, 1, 1, 1])\n",
    "# 指定参数权值w、阈值h，w1=1, w2=1, h=1.5\n",
    "w = np.array([[1, 1]])\n",
    "h = 0.5"
   ]
  },
  {
   "cell_type": "markdown",
   "metadata": {},
   "source": [
    "# 与门"
   ]
  },
  {
   "cell_type": "code",
   "execution_count": 2,
   "metadata": {},
   "outputs": [
    {
     "name": "stdout",
     "output_type": "stream",
     "text": [
      "输入:[0 0] 实际输出:0 期望输出：0\n",
      "输入:[0 1] 实际输出:1 期望输出：1\n",
      "输入:[1 0] 实际输出:1 期望输出：1\n",
      "输入:[1 1] 实际输出:1 期望输出：1\n"
     ]
    }
   ],
   "source": [
    "# 定义阶跃函数\n",
    "def step(a):\n",
    "    if a > 0:\n",
    "        return 1\n",
    "    else:\n",
    "        return 0\n",
    "k = 0\n",
    "for index in range(len(x)):\n",
    "    y = step(np.dot(w, np.array(x[index]).T) - h) # np.dot为矩阵点乘\n",
    "    if y == d[index]:  # 只有四次结果全都正确才认为实现了与门\n",
    "        k = k + 1\n",
    "    print(\"输入:\" + str(x[index]) + \" 实际输出:\" + str(y) \n",
    "    + \" 期望输出：\" + str(d[index]))"
   ]
  },
  {
   "cell_type": "code",
   "execution_count": 6,
   "metadata": {
    "scrolled": true
   },
   "outputs": [
    {
     "name": "stdout",
     "output_type": "stream",
     "text": [
      "权值w=[[1 1]] 阈值h=0.5\n",
      "1.0\n",
      "1.0\n",
      "\n",
      "与门：y = f(1.0*x1 + 1.0*x2 - 0.5)\n"
     ]
    },
    {
     "data": {
      "image/png": "[encoded data removed]",
      "text/plain": [
       "<Figure size 432x288 with 1 Axes>"
      ]
     },
     "metadata": {
      "needs_background": "light"
     },
     "output_type": "display_data"
    }
   ],
   "source": [
    "# 绘图显示点和分界线\n",
    "def draw(p, q, a):\n",
    "    x1 = np.arange(0, 2, 0.1)\n",
    "    x2 = (a - p * x1) / (q)\n",
    "    # 绘制散点\n",
    "    plt.scatter(1, 1, color='red')\n",
    "    plt.scatter(0, 0, color='blue')\n",
    "    plt.scatter(0, 1, color='red')\n",
    "    plt.scatter(1, 0, color='red')\n",
    "    # 绘制直线\n",
    "    plt.plot(x1, x2)\n",
    "    plt.xlabel(\"x1\")\n",
    "    plt.ylabel(\"x2\")\n",
    "plt.show()  # 显示坐标图\n",
    "if k == 4:\n",
    "# 打印指定w，h的值\n",
    "    print(\"权值w=\" + str(w) + \" 阈值h=\" + str(h).split('.')[0] + '.' + str(h).split('.')[1][:2])\n",
    "    w1 = float(str(w).split(' ')[0][2:])\n",
    "    w2 = float(str(w).split(' ')[1][0])\n",
    "    print(w1)\n",
    "    print(w2)\n",
    "    print()\n",
    "    # 实现公式\n",
    "    print(\"与门：y = f(\" + str(w1) + \"*x1 + \" + str(w2) + \"*x2 - \" + str(h) + \")\")\n",
    "    # 绘图\n",
    "    draw(w1, w2, h)\n",
    "else:\n",
    "    print(\"参数不正确，无法实现与门，需要进一步调整\")"
   ]
  },
  {
   "cell_type": "markdown",
   "metadata": {},
   "source": [
    "# 或门"
   ]
  },
  {
   "cell_type": "code",
   "execution_count": 4,
   "metadata": {},
   "outputs": [
    {
     "name": "stdout",
     "output_type": "stream",
     "text": [
      "输入:[0 0] 实际输出:0 期望输出：0\n",
      "输入:[0 1] 实际输出:1 期望输出：1\n",
      "输入:[1 0] 实际输出:1 期望输出：1\n",
      "输入:[1 1] 实际输出:1 期望输出：1\n"
     ]
    }
   ],
   "source": [
    "a=0\n",
    "for index in range(len(x)):\n",
    "    y = step(np.dot(w, np.array(x[index]).T) - h) # np.dot为矩阵点乘\n",
    "    if y == d[index]:  # 只要有一次结果正确认为实现了或门\n",
    "        a += 1\n",
    "        \n",
    "    print(\"输入:\" + str(x[index]) + \" 实际输出:\" + str(y) \n",
    "    + \" 期望输出：\" + str(d[index]))"
   ]
  },
  {
   "cell_type": "code",
   "execution_count": 5,
   "metadata": {},
   "outputs": [
    {
     "name": "stdout",
     "output_type": "stream",
     "text": [
      "权值w=[[1 1]] 阈值h=0.5\n",
      "1.0\n",
      "1.0\n",
      "\n",
      "或门：y = f(1.0*x1 + 1.0*x2 - 0.5)\n"
     ]
    },
    {
     "data": {
      "image/png": "[encoded data removed]",
      "text/plain": [
       "<Figure size 432x288 with 1 Axes>"
      ]
     },
     "metadata": {
      "needs_background": "light"
     },
     "output_type": "display_data"
    }
   ],
   "source": [
    "# 绘图显示点和分界线\n",
    "def draw(p, q, a):\n",
    "    x1 = np.arange(0, 2, 0.1)\n",
    "    x2 = (a - p * x1) / (q)\n",
    "    # 绘制散点\n",
    "    plt.scatter(1, 1, color='red')\n",
    "    plt.scatter(0, 0, color='blue')\n",
    "    plt.scatter(0, 1, color='red')\n",
    "    plt.scatter(1, 0, color='red')\n",
    "    # 绘制直线\n",
    "    plt.plot(x1, x2)\n",
    "    plt.xlabel(\"x1\")\n",
    "    plt.ylabel(\"x2\")\n",
    "plt.show()  # 显示坐标图\n",
    "if k >=1:\n",
    "# 打印指定w，h的值\n",
    "    print(\"权值w=\" + str(w) + \" 阈值h=\" + str(h).split('.')[0] + '.' + str(h).split('.')[1][:2])\n",
    "    w1 = float(str(w).split(' ')[0][2:])\n",
    "    w2 = float(str(w).split(' ')[1][0])\n",
    "    print(w1)\n",
    "    print(w2)\n",
    "    print()\n",
    "    # 实现公式\n",
    "    print(\"或门：y = f(\" + str(w1) + \"*x1 + \" + str(w2) + \"*x2 - \" + str(h) + \")\")\n",
    "    # 绘图\n",
    "    draw(w1, w2, h)\n",
    "else:\n",
    "    print(\"参数不正确，无法实现或门，需要进一步调整\")"
   ]
  },
  {
   "cell_type": "code",
   "execution_count": null,
   "metadata": {},
   "outputs": [],
   "source": []
  }
 ],
 "metadata": {
  "kernelspec": {
   "display_name": "Python 3",
   "language": "python",
   "name": "python3"
  },
  "language_info": {
   "codemirror_mode": {
    "name": "ipython",
    "version": 3
   },
   "file_extension": ".py",
   "mimetype": "text/x-python",
   "name": "python",
   "nbconvert_exporter": "python",
   "pygments_lexer": "ipython3",
   "version": "3.8.3"
  }
 },
 "nbformat": 4,
 "nbformat_minor": 4
}
