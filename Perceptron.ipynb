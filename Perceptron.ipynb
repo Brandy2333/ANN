{
 "cells": [
  {
   "cell_type": "markdown",
   "metadata": {},
   "source": [
    "# 感知机\n"
   ]
  },
  {
   "cell_type": "markdown",
   "metadata": {},
   "source": [
    "# 导包和定义激活函数"
   ]
  },
  {
   "cell_type": "code",
   "execution_count": 1,
   "metadata": {},
   "outputs": [],
   "source": [
    "import numpy as np\n",
    "import matplotlib.pyplot as plt #用于绘图\n",
    "import pandas as pd\n",
    "from sklearn.model_selection import train_test_split\n",
    "np.set_printoptions(formatter={'float':'{:.1f}'.format})#让np显示小数点后的0"
   ]
  },
  {
   "cell_type": "code",
   "execution_count": 2,
   "metadata": {},
   "outputs": [],
   "source": [
    "# 定义阶跃函数   \n",
    "def step(y):   \n",
    "    return 1 if y > 0 else 0  \n",
    "# 定义符号函数\n",
    "def sign(a):\n",
    "    if a>0:\n",
    "        return 1\n",
    "    else:\n",
    "        return -1"
   ]
  },
  {
   "cell_type": "markdown",
   "metadata": {},
   "source": [
    "# 1.课本案例"
   ]
  },
  {
   "cell_type": "code",
   "execution_count": 3,
   "metadata": {},
   "outputs": [
    {
     "data": {
      "image/png": "[encoded data removed]",
      "text/plain": [
       "<Figure size 432x288 with 1 Axes>"
      ]
     },
     "metadata": {
      "needs_background": "light"
     },
     "output_type": "display_data"
    }
   ],
   "source": [
    "\n",
    "# 定义输入输出数据和误差e\n",
    "x = np.array([[0,0], [0,1], [1,0], [1,1]])   #初始数据\n",
    "d = [0,0,0,1]   #真值\n",
    "e = 0\n",
    "# 初始化参数：权值w1，w2、阈值c、学习速率a，b\n",
    "w = np.array([0.038, 0.044]) # 输入层至输出层连接的权值\n",
    "c = 0.042  #阈值\n",
    "a = 0.015  #学习速率\n",
    "b = 0.006  #学习速率\n",
    "\n",
    "while True:  # 无限循环，碰到break停止循环\n",
    "    num_errors = 0\n",
    "    for i in range(len(x)):\n",
    "        # 求加权和\n",
    "        s = np.sum( w * x[i]) - c #目标值与阈值的差\n",
    "#         print(s)\n",
    "        y = step(s)\n",
    "#         print(y)\n",
    "        e = d[i] - y\n",
    "            # 更新权值和阈值\n",
    "        w = w + a * e * x[i]\n",
    "#         print(w)\n",
    "        c = np.sum(c+b*e)\n",
    "#         print(c)\n",
    "# 判断是否符合所期望的误差条件，这里期望的误差是0 \n",
    "        if(e!=0):\n",
    "            num_errors+=1\n",
    "# 当一轮for循环误差全为0时，跳出循环\n",
    "    if(num_errors==0):\n",
    "        break\n",
    "# 指定x轴数据在-0.1~1.2均匀分布\n",
    "x=np.random.uniform(-0.1,1.2,100)\n",
    "y=-(w[0]*x-c)/w[1]\n",
    "# 绘出绿色的分界线\n",
    "plt.plot(x,y,'yellow')\n",
    "# 绘出训练集中的点  \n",
    "plt.scatter(0,0,c='r')\n",
    "plt.scatter(0,1,c='r')\n",
    "plt.scatter(1,0,c='r')\n",
    "plt.scatter(1,1,c='b')\n",
    "plt.show()"
   ]
  },
  {
   "cell_type": "markdown",
   "metadata": {},
   "source": [
    "# 2. 利用感知机模型对鸢尾花进行分类\n",
    "导入数据"
   ]
  },
  {
   "cell_type": "code",
   "execution_count": 4,
   "metadata": {},
   "outputs": [
    {
     "data": {
      "text/html": [
       "<div>\n",
       "<style scoped>\n",
       "    .dataframe tbody tr th:only-of-type {\n",
       "        vertical-align: middle;\n",
       "    }\n",
       "\n",
       "    .dataframe tbody tr th {\n",
       "        vertical-align: top;\n",
       "    }\n",
       "\n",
       "    .dataframe thead th {\n",
       "        text-align: right;\n",
       "    }\n",
       "</style>\n",
       "<table border=\"1\" class=\"dataframe\">\n",
       "  <thead>\n",
       "    <tr style=\"text-align: right;\">\n",
       "      <th></th>\n",
       "      <th>ep_len</th>\n",
       "      <th>ep_wid</th>\n",
       "      <th>hb_len</th>\n",
       "      <th>hb_wid</th>\n",
       "      <th>f_class</th>\n",
       "    </tr>\n",
       "  </thead>\n",
       "  <tbody>\n",
       "    <tr>\n",
       "      <th>0</th>\n",
       "      <td>5.1</td>\n",
       "      <td>3.5</td>\n",
       "      <td>1.4</td>\n",
       "      <td>0.2</td>\n",
       "      <td>Iris-setosa</td>\n",
       "    </tr>\n",
       "    <tr>\n",
       "      <th>1</th>\n",
       "      <td>4.9</td>\n",
       "      <td>3.0</td>\n",
       "      <td>1.4</td>\n",
       "      <td>0.2</td>\n",
       "      <td>Iris-setosa</td>\n",
       "    </tr>\n",
       "    <tr>\n",
       "      <th>2</th>\n",
       "      <td>4.7</td>\n",
       "      <td>3.2</td>\n",
       "      <td>1.3</td>\n",
       "      <td>0.2</td>\n",
       "      <td>Iris-setosa</td>\n",
       "    </tr>\n",
       "    <tr>\n",
       "      <th>3</th>\n",
       "      <td>4.6</td>\n",
       "      <td>3.1</td>\n",
       "      <td>1.5</td>\n",
       "      <td>0.2</td>\n",
       "      <td>Iris-setosa</td>\n",
       "    </tr>\n",
       "    <tr>\n",
       "      <th>4</th>\n",
       "      <td>5.0</td>\n",
       "      <td>3.6</td>\n",
       "      <td>1.4</td>\n",
       "      <td>0.2</td>\n",
       "      <td>Iris-setosa</td>\n",
       "    </tr>\n",
       "  </tbody>\n",
       "</table>\n",
       "</div>"
      ],
      "text/plain": [
       "   ep_len  ep_wid  hb_len  hb_wid      f_class\n",
       "0     5.1     3.5     1.4     0.2  Iris-setosa\n",
       "1     4.9     3.0     1.4     0.2  Iris-setosa\n",
       "2     4.7     3.2     1.3     0.2  Iris-setosa\n",
       "3     4.6     3.1     1.5     0.2  Iris-setosa\n",
       "4     5.0     3.6     1.4     0.2  Iris-setosa"
      ]
     },
     "execution_count": 4,
     "metadata": {},
     "output_type": "execute_result"
    }
   ],
   "source": [
    "flower_title = ['ep_len', 'ep_wid', 'hb_len', 'hb_wid', 'f_class']\n",
    "flower = pd.read_csv('./iris.data', header=None, names=flower_title, engine = 'python')\n",
    "flower.head()"
   ]
  },
  {
   "cell_type": "markdown",
   "metadata": {},
   "source": [
    "# 数据属性说明  \n",
    "属性信息：\n",
    "\n",
    "1.萼片长度（以厘米计）  \n",
    "2.萼片宽度（以厘米计）  \n",
    "3.花瓣长度（以厘米计）  \n",
    "4.花瓣宽度（以厘米计）  \n",
    "5.类别：  \n",
    "-艾里斯·塞托萨\n",
    "（Iris Setosa） -艾里斯（Iris Versicolour）\n",
    "–艾里斯·维珍妮卡 （Iris Virginica）"
   ]
  },
  {
   "cell_type": "markdown",
   "metadata": {},
   "source": [
    "# 将种类转为数字"
   ]
  },
  {
   "cell_type": "markdown",
   "metadata": {},
   "source": [
    "这里犯了一个逻辑错误，由于阶跃函数输出为0，1，而原始数据集修正为0，1，初始权重也为0，0，导致后面计算误差时e一直为0，使权重得不到修正，因此转为使用sign()函数，并将真值修改为-1，1"
   ]
  },
  {
   "cell_type": "code",
   "execution_count": 5,
   "metadata": {
    "scrolled": true
   },
   "outputs": [
    {
     "data": {
      "text/html": [
       "<div>\n",
       "<style scoped>\n",
       "    .dataframe tbody tr th:only-of-type {\n",
       "        vertical-align: middle;\n",
       "    }\n",
       "\n",
       "    .dataframe tbody tr th {\n",
       "        vertical-align: top;\n",
       "    }\n",
       "\n",
       "    .dataframe thead th {\n",
       "        text-align: right;\n",
       "    }\n",
       "</style>\n",
       "<table border=\"1\" class=\"dataframe\">\n",
       "  <thead>\n",
       "    <tr style=\"text-align: right;\">\n",
       "      <th></th>\n",
       "      <th>ep_len</th>\n",
       "      <th>ep_wid</th>\n",
       "      <th>hb_len</th>\n",
       "      <th>hb_wid</th>\n",
       "      <th>f_class</th>\n",
       "    </tr>\n",
       "  </thead>\n",
       "  <tbody>\n",
       "    <tr>\n",
       "      <th>0</th>\n",
       "      <td>5.1</td>\n",
       "      <td>3.5</td>\n",
       "      <td>1.4</td>\n",
       "      <td>0.2</td>\n",
       "      <td>0</td>\n",
       "    </tr>\n",
       "    <tr>\n",
       "      <th>1</th>\n",
       "      <td>4.9</td>\n",
       "      <td>3.0</td>\n",
       "      <td>1.4</td>\n",
       "      <td>0.2</td>\n",
       "      <td>0</td>\n",
       "    </tr>\n",
       "    <tr>\n",
       "      <th>2</th>\n",
       "      <td>4.7</td>\n",
       "      <td>3.2</td>\n",
       "      <td>1.3</td>\n",
       "      <td>0.2</td>\n",
       "      <td>0</td>\n",
       "    </tr>\n",
       "    <tr>\n",
       "      <th>3</th>\n",
       "      <td>4.6</td>\n",
       "      <td>3.1</td>\n",
       "      <td>1.5</td>\n",
       "      <td>0.2</td>\n",
       "      <td>0</td>\n",
       "    </tr>\n",
       "    <tr>\n",
       "      <th>4</th>\n",
       "      <td>5.0</td>\n",
       "      <td>3.6</td>\n",
       "      <td>1.4</td>\n",
       "      <td>0.2</td>\n",
       "      <td>0</td>\n",
       "    </tr>\n",
       "    <tr>\n",
       "      <th>...</th>\n",
       "      <td>...</td>\n",
       "      <td>...</td>\n",
       "      <td>...</td>\n",
       "      <td>...</td>\n",
       "      <td>...</td>\n",
       "    </tr>\n",
       "    <tr>\n",
       "      <th>145</th>\n",
       "      <td>6.7</td>\n",
       "      <td>3.0</td>\n",
       "      <td>5.2</td>\n",
       "      <td>2.3</td>\n",
       "      <td>1</td>\n",
       "    </tr>\n",
       "    <tr>\n",
       "      <th>146</th>\n",
       "      <td>6.3</td>\n",
       "      <td>2.5</td>\n",
       "      <td>5.0</td>\n",
       "      <td>1.9</td>\n",
       "      <td>1</td>\n",
       "    </tr>\n",
       "    <tr>\n",
       "      <th>147</th>\n",
       "      <td>6.5</td>\n",
       "      <td>3.0</td>\n",
       "      <td>5.2</td>\n",
       "      <td>2.0</td>\n",
       "      <td>1</td>\n",
       "    </tr>\n",
       "    <tr>\n",
       "      <th>148</th>\n",
       "      <td>6.2</td>\n",
       "      <td>3.4</td>\n",
       "      <td>5.4</td>\n",
       "      <td>2.3</td>\n",
       "      <td>1</td>\n",
       "    </tr>\n",
       "    <tr>\n",
       "      <th>149</th>\n",
       "      <td>5.9</td>\n",
       "      <td>3.0</td>\n",
       "      <td>5.1</td>\n",
       "      <td>1.8</td>\n",
       "      <td>1</td>\n",
       "    </tr>\n",
       "  </tbody>\n",
       "</table>\n",
       "<p>150 rows × 5 columns</p>\n",
       "</div>"
      ],
      "text/plain": [
       "     ep_len  ep_wid  hb_len  hb_wid  f_class\n",
       "0       5.1     3.5     1.4     0.2        0\n",
       "1       4.9     3.0     1.4     0.2        0\n",
       "2       4.7     3.2     1.3     0.2        0\n",
       "3       4.6     3.1     1.5     0.2        0\n",
       "4       5.0     3.6     1.4     0.2        0\n",
       "..      ...     ...     ...     ...      ...\n",
       "145     6.7     3.0     5.2     2.3        1\n",
       "146     6.3     2.5     5.0     1.9        1\n",
       "147     6.5     3.0     5.2     2.0        1\n",
       "148     6.2     3.4     5.4     2.3        1\n",
       "149     5.9     3.0     5.1     1.8        1\n",
       "\n",
       "[150 rows x 5 columns]"
      ]
     },
     "execution_count": 5,
     "metadata": {},
     "output_type": "execute_result"
    }
   ],
   "source": [
    "# class2int={ 'Iris-setosa': 2, 'Iris-versicolor': 0,'Iris-virginica': 1}#转换字典   \n",
    "class2int={ 'Iris-setosa': 0, 'Iris-versicolor': -1,'Iris-virginica': 1}\n",
    "# flower.f_class.replace(class2int)\n",
    "flower['f_class']=flower['f_class'].map(class2int)\n",
    "# flower.loc[(flower['f_class']=='Iris-versicolor'),'Iris-versicolor']=0\n",
    "flower\n"
   ]
  },
  {
   "cell_type": "markdown",
   "metadata": {},
   "source": [
    "# 为了绘图方便，去花瓣长度和宽度为特征，取类别为结果,取前两类进行分类"
   ]
  },
  {
   "cell_type": "code",
   "execution_count": 6,
   "metadata": {},
   "outputs": [
    {
     "data": {
      "text/plain": [
       "array([[4.7, 1.4, -1.0],\n",
       "       [4.5, 1.5, -1.0],\n",
       "       [4.9, 1.5, -1.0],\n",
       "       [4.0, 1.3, -1.0],\n",
       "       [4.6, 1.5, -1.0],\n",
       "       [4.5, 1.3, -1.0],\n",
       "       [4.7, 1.6, -1.0],\n",
       "       [3.3, 1.0, -1.0],\n",
       "       [4.6, 1.3, -1.0],\n",
       "       [3.9, 1.4, -1.0],\n",
       "       [3.5, 1.0, -1.0],\n",
       "       [4.2, 1.5, -1.0],\n",
       "       [4.0, 1.0, -1.0],\n",
       "       [4.7, 1.4, -1.0],\n",
       "       [3.6, 1.3, -1.0],\n",
       "       [4.4, 1.4, -1.0],\n",
       "       [4.5, 1.5, -1.0],\n",
       "       [4.1, 1.0, -1.0],\n",
       "       [4.5, 1.5, -1.0],\n",
       "       [3.9, 1.1, -1.0],\n",
       "       [4.8, 1.8, -1.0],\n",
       "       [4.0, 1.3, -1.0],\n",
       "       [4.9, 1.5, -1.0],\n",
       "       [4.7, 1.2, -1.0],\n",
       "       [4.3, 1.3, -1.0],\n",
       "       [4.4, 1.4, -1.0],\n",
       "       [4.8, 1.4, -1.0],\n",
       "       [5.0, 1.7, -1.0],\n",
       "       [4.5, 1.5, -1.0],\n",
       "       [3.5, 1.0, -1.0],\n",
       "       [3.8, 1.1, -1.0],\n",
       "       [3.7, 1.0, -1.0],\n",
       "       [3.9, 1.2, -1.0],\n",
       "       [5.1, 1.6, -1.0],\n",
       "       [4.5, 1.5, -1.0],\n",
       "       [4.5, 1.6, -1.0],\n",
       "       [4.7, 1.5, -1.0],\n",
       "       [4.4, 1.3, -1.0],\n",
       "       [4.1, 1.3, -1.0],\n",
       "       [4.0, 1.3, -1.0],\n",
       "       [4.4, 1.2, -1.0],\n",
       "       [4.6, 1.4, -1.0],\n",
       "       [4.0, 1.2, -1.0],\n",
       "       [3.3, 1.0, -1.0],\n",
       "       [4.2, 1.3, -1.0],\n",
       "       [4.2, 1.2, -1.0],\n",
       "       [4.2, 1.3, -1.0],\n",
       "       [4.3, 1.3, -1.0],\n",
       "       [3.0, 1.1, -1.0],\n",
       "       [4.1, 1.3, -1.0],\n",
       "       [6.0, 2.5, 1.0],\n",
       "       [5.1, 1.9, 1.0],\n",
       "       [5.9, 2.1, 1.0],\n",
       "       [5.6, 1.8, 1.0],\n",
       "       [5.8, 2.2, 1.0],\n",
       "       [6.6, 2.1, 1.0],\n",
       "       [4.5, 1.7, 1.0],\n",
       "       [6.3, 1.8, 1.0],\n",
       "       [5.8, 1.8, 1.0],\n",
       "       [6.1, 2.5, 1.0],\n",
       "       [5.1, 2.0, 1.0],\n",
       "       [5.3, 1.9, 1.0],\n",
       "       [5.5, 2.1, 1.0],\n",
       "       [5.0, 2.0, 1.0],\n",
       "       [5.1, 2.4, 1.0],\n",
       "       [5.3, 2.3, 1.0],\n",
       "       [5.5, 1.8, 1.0],\n",
       "       [6.7, 2.2, 1.0],\n",
       "       [6.9, 2.3, 1.0],\n",
       "       [5.0, 1.5, 1.0],\n",
       "       [5.7, 2.3, 1.0],\n",
       "       [4.9, 2.0, 1.0],\n",
       "       [6.7, 2.0, 1.0],\n",
       "       [4.9, 1.8, 1.0],\n",
       "       [5.7, 2.1, 1.0],\n",
       "       [6.0, 1.8, 1.0],\n",
       "       [4.8, 1.8, 1.0],\n",
       "       [4.9, 1.8, 1.0],\n",
       "       [5.6, 2.1, 1.0],\n",
       "       [5.8, 1.6, 1.0],\n",
       "       [6.1, 1.9, 1.0],\n",
       "       [6.4, 2.0, 1.0],\n",
       "       [5.6, 2.2, 1.0],\n",
       "       [5.1, 1.5, 1.0],\n",
       "       [5.6, 1.4, 1.0],\n",
       "       [6.1, 2.3, 1.0],\n",
       "       [5.6, 2.4, 1.0],\n",
       "       [5.5, 1.8, 1.0],\n",
       "       [4.8, 1.8, 1.0],\n",
       "       [5.4, 2.1, 1.0],\n",
       "       [5.6, 2.4, 1.0],\n",
       "       [5.1, 2.3, 1.0],\n",
       "       [5.1, 1.9, 1.0],\n",
       "       [5.9, 2.3, 1.0],\n",
       "       [5.7, 2.5, 1.0],\n",
       "       [5.2, 2.3, 1.0],\n",
       "       [5.0, 1.9, 1.0],\n",
       "       [5.2, 2.0, 1.0],\n",
       "       [5.4, 2.3, 1.0],\n",
       "       [5.1, 1.8, 1.0]])"
      ]
     },
     "execution_count": 6,
     "metadata": {},
     "output_type": "execute_result"
    }
   ],
   "source": [
    "col=['hb_len','hb_wid','f_class']\n",
    "# Iris1=pd.DataFrame(flower[0:50],columns = col)\n",
    "# Iris2=pd.DataFrame(flower[100:],columns = col)\n",
    "# Iris=pd.concat([Iris1,Iris2])\n",
    "Iris=pd.DataFrame(flower[50:],columns = col)\n",
    "Iris_1=Iris.values #数据格式转换 取值\n",
    "Iris_1 "
   ]
  },
  {
   "cell_type": "markdown",
   "metadata": {},
   "source": [
    "# 划分训练集和测试集"
   ]
  },
  {
   "cell_type": "code",
   "execution_count": 7,
   "metadata": {},
   "outputs": [],
   "source": [
    "train, test = train_test_split(Iris_1,test_size=0.2) # 按照4：1划分训练集和测试集"
   ]
  },
  {
   "cell_type": "code",
   "execution_count": 8,
   "metadata": {},
   "outputs": [],
   "source": [
    "# train"
   ]
  },
  {
   "cell_type": "code",
   "execution_count": 9,
   "metadata": {},
   "outputs": [],
   "source": [
    "# test"
   ]
  },
  {
   "cell_type": "code",
   "execution_count": 10,
   "metadata": {},
   "outputs": [
    {
     "data": {
      "text/plain": [
       "array([3.7, 1.0])"
      ]
     },
     "execution_count": 10,
     "metadata": {},
     "output_type": "execute_result"
    }
   ],
   "source": [
    "x=test[0][:-1] # :-1表示取到倒数第二个\n",
    "x"
   ]
  },
  {
   "cell_type": "code",
   "execution_count": 11,
   "metadata": {},
   "outputs": [
    {
     "data": {
      "text/plain": [
       "array([-1.0])"
      ]
     },
     "execution_count": 11,
     "metadata": {},
     "output_type": "execute_result"
    }
   ],
   "source": [
    "y=test[0][-1:] # -1: 表示取倒数第一个\n",
    "y"
   ]
  },
  {
   "cell_type": "markdown",
   "metadata": {},
   "source": [
    "# 绘图"
   ]
  },
  {
   "cell_type": "code",
   "execution_count": 12,
   "metadata": {},
   "outputs": [
    {
     "data": {
      "image/png": "[encoded data removed]",
      "text/plain": [
       "<Figure size 432x288 with 1 Axes>"
      ]
     },
     "metadata": {
      "needs_background": "light"
     },
     "output_type": "display_data"
    }
   ],
   "source": [
    "for i in range(len(Iris_1)):\n",
    "    if Iris_1[i][2] == -1:\n",
    "        plt.scatter(Iris_1[i][0],Iris_1[i][1],c='r',marker='o')\n",
    "    else:\n",
    "        plt.scatter(Iris_1[i][0],Iris_1[i][1],c='b',marker='x')"
   ]
  },
  {
   "cell_type": "markdown",
   "metadata": {},
   "source": [
    "# 这里经过多次失败后，调整了学习率的大小，使lr2>lr1 ,个人猜想原因在于鸢尾花原始数据中，花瓣长度>宽度，因此使宽度的权重增大"
   ]
  },
  {
   "cell_type": "code",
   "execution_count": 21,
   "metadata": {},
   "outputs": [],
   "source": [
    "def feeling():\n",
    "#     w = np.array([0.038, 0.044]) # 初始权重设为【0，0】\n",
    "    w = np.zeros(2)\n",
    "#     print(w)\n",
    "    lr_1=0.001 #learning rate\n",
    "    lr_2=0.015\n",
    "    c=1 # 阈值\n",
    "    # 循环遍历计数\n",
    "    cnt=0\n",
    "    while True:\n",
    "        cnt += 1\n",
    "#         遍历次数超过100时跳出循环，学习结束\n",
    "        if cnt > 100:\n",
    "            break\n",
    "        for i in range(len(train)):\n",
    "            x = np.array(train[i][:-1])\n",
    "            y = train[i][-1]\n",
    "            s = np.sum(w*x)-c #计算值与阈值的差\n",
    "            z = sign(s)\n",
    "            # 感知器的学习算法是以错误驱动的，当分错一个样本时，就用这个样本来更新权重。\n",
    "            if y * z <= 0:\n",
    "                e = y-z  # 误差\n",
    "                w = w+lr_1*e*x # 更新权重\n",
    "                c = np.sum(c+lr_2*e) # 更新阈值\n",
    "    return cnt ,w ,c"
   ]
  },
  {
   "cell_type": "markdown",
   "metadata": {},
   "source": [
    "# 绘图并计算准确率"
   ]
  },
  {
   "cell_type": "code",
   "execution_count": 24,
   "metadata": {},
   "outputs": [
    {
     "name": "stdout",
     "output_type": "stream",
     "text": [
      "迭代次数： 101\n",
      "超平面法向量： [0.5 0.3]\n",
      "阈值： 2.949999999999995\n"
     ]
    },
    {
     "data": {
      "image/png": "[encoded data removed]",
      "text/plain": [
       "<Figure size 432x288 with 1 Axes>"
      ]
     },
     "metadata": {
      "needs_background": "light"
     },
     "output_type": "display_data"
    },
    {
     "name": "stdout",
     "output_type": "stream",
     "text": [
      "精确率： 1.0\n"
     ]
    }
   ],
   "source": [
    "if __name__=='__main__':\n",
    "    cnt,w,c = feeling()\n",
    "    print(\"迭代次数：\",cnt)\n",
    "    print(\"超平面法向量：\",w)\n",
    "    print(\"阈值：\",c)\n",
    "    count = 0\n",
    "    for i in range(len(test)):\n",
    "        target = test[i][-1:]\n",
    "    #     print(target)\n",
    "        result = sign(np.sum(w*test[i][:-1])-c)\n",
    "    #     print(result)\n",
    "        if (target == result):\n",
    "            count += 1\n",
    "    accuracy = float(count/len(test))\n",
    "    # 绘制点\n",
    "    for i in range(len(test)):\n",
    "        if test[i][2] == -1:\n",
    "            plt.scatter(test[i][0],test[i][1],c='r',marker='o')\n",
    "        else:\n",
    "            plt.scatter(test[i][0],test[i][1],c='b',marker='x')\n",
    "    X = np.random.uniform(4,5.5,10)\n",
    "    Y = -(w[0]*X-c)/w[1]\n",
    "    #     Y = np.random.uniform(-0.1,0.5,1)\n",
    "    # 绘制分割线\n",
    "    plt.plot(X,Y,'g')\n",
    "    plt.show()\n",
    "    print(\"精确率：\",accuracy)"
   ]
  },
  {
   "cell_type": "markdown",
   "metadata": {},
   "source": [
    "# 3.使用口袋算法对其进行优化\n",
    "   原始的感知机算法只能够对于线性可分的问题进行处理，而在处理线性不可分的问题时，则会发生算法无法停止的震荡现象。在实际工作中许多学者设计出各种规则使算法终止（例如设置最大迭代次数、学习步长骤减等），但是最终解的性质是不确定的。  \n",
    "   为了应对这些问题，Gallant在感知机算法的迭代过程中引入一个口袋权向量来存放正确运行次数最多的感知机权向量，其目标是找到一个最优解，并称这一感知机的改进算法为口袋算法(Pocket Algorithm)。在口袋算法中，需要遵循两条规则：  \n",
    "   （1）样本必须随机选取  \n",
    "   （2）需要进行一些检查以防结果劣化  \n",
    "   口袋算法在处理过程中采用了贪心的近似处理，添加了一个用于存放正确运行次数最多的感知机权重与阈值的口袋权向量W，若在一次训练中得到的结果较W更好，则用取代W，否则保留W。其中，采用口袋算法的感知机模型在处理含有噪声的数据中表现很好。"
   ]
  },
  {
   "cell_type": "code",
   "execution_count": 31,
   "metadata": {},
   "outputs": [],
   "source": [
    "def checkErrorRate(train,w,c):\n",
    "    count=0\n",
    "    for i in range(len(train)):\n",
    "        x=np.array(train[i][:-1])\n",
    "        y=train[i][-1]\n",
    "        if np.sign(np.sum(w*x)-c)!=np.sign(y):\n",
    "            count+=1\n",
    "    return count/len(train)"
   ]
  },
  {
   "cell_type": "code",
   "execution_count": 34,
   "metadata": {},
   "outputs": [],
   "source": [
    "def Pocket():\n",
    "    w = np.zeros(2)\n",
    "    lr = 0.01\n",
    "    c = 1\n",
    "    best_w = w\n",
    "    bestRate = 1\n",
    "    best_c = c\n",
    "#     循环遍历计数\n",
    "    cnt = 0\n",
    "    while True:\n",
    "        cnt += 1\n",
    "#         遍历次数超过1000时跳出循环，学习结束\n",
    "        if cnt > 1000:\n",
    "            break\n",
    "        for i in range(len(train)):\n",
    "            x = np.array(train[i][:-1])\n",
    "            y = train[i][-1]\n",
    "            \n",
    "            s = np.sum(w*x)-c\n",
    "            z = sign(s)\n",
    "            if y*z <= 0:\n",
    "                e = y-z\n",
    "                w = w+lr*e*x\n",
    "                c = np.sum(c+lr*e)\n",
    "                rate = checkErrorRate(train,w,c) # 如果在一次训练中，错误率降低，就用这次的w和c进行更新\n",
    "                if rate<bestRate:\n",
    "                    bestRate = rate\n",
    "                    best_w = w\n",
    "                    best_c = c\n",
    "    return cnt,best_w,best_c"
   ]
  },
  {
   "cell_type": "code",
   "execution_count": 44,
   "metadata": {},
   "outputs": [
    {
     "name": "stdout",
     "output_type": "stream",
     "text": [
      "迭代次数： 1001\n",
      "超平面法向量： [0.2 0.1]\n",
      "阈值： 0.98\n"
     ]
    },
    {
     "data": {
      "image/png": "[encoded data removed]",
      "text/plain": [
       "<Figure size 432x288 with 1 Axes>"
      ]
     },
     "metadata": {
      "needs_background": "light"
     },
     "output_type": "display_data"
    },
    {
     "name": "stdout",
     "output_type": "stream",
     "text": [
      "准确率： 1.0\n"
     ]
    }
   ],
   "source": [
    "if __name__=='__main__':\n",
    "    cnt,best_w,best_c=Pocket()\n",
    "    print(\"迭代次数：\",cnt)\n",
    "    print(\"超平面法向量：\",best_w)\n",
    "    print(\"阈值：\",best_c)\n",
    "    count = 0\n",
    "    for i in range(len(test)):\n",
    "        target = test[i][-1:]\n",
    "        result = sign(np.sum(best_w*test[i][:-1])-best_c)\n",
    "        if(target == result):\n",
    "            count += 1\n",
    "    accuracy = float(count/len(test))\n",
    "    # 绘制测试集图像\n",
    "    for i in range(len(test)):\n",
    "        if test[i][-1] == -1:\n",
    "            plt.scatter(test[i][0],test[i][1],c='r',marker='o')\n",
    "        else:\n",
    "            plt.scatter(test[i][0],test[i][1],c='b',marker='x')\n",
    "#     for i in range(len(data)):\n",
    "#         if data[i][-1] == -1:\n",
    "#             plt.scatter(data[i][0],data[i][1],c='r')\n",
    "#         else:\n",
    "#             plt.scatter(data[i][0],data[i][1],c='b')\n",
    "    X = np.random.uniform(4,6,20)\n",
    "    Y = -(best_w[0]*X-best_c)/best_w[1]\n",
    "    plt.plot(X,Y,'g')\n",
    "    plt.xlabel('hb_len')\n",
    "    plt.ylabel('hb_wid')\n",
    "    plt.show()\n",
    "    print(\"准确率：\",accuracy)"
   ]
  },
  {
   "cell_type": "code",
   "execution_count": 46,
   "metadata": {},
   "outputs": [
    {
     "data": {
      "image/png": "[encoded data removed]",
      "text/plain": [
       "<Figure size 432x288 with 1 Axes>"
      ]
     },
     "metadata": {
      "needs_background": "light"
     },
     "output_type": "display_data"
    }
   ],
   "source": [
    "for i in range(len(Iris_1)):\n",
    "    if Iris_1[i][-1] == -1:\n",
    "        plt.scatter(Iris_1[i][0],Iris_1[i][1],c='r',marker='o')\n",
    "    else:\n",
    "        plt.scatter(Iris_1[i][0],Iris_1[i][1],c='b',marker='x')\n",
    "X = np.random.uniform(4,6,10)\n",
    "Y = -(best_w[0]*X-best_c)/best_w[1]\n",
    "plt.xlabel('hb_len')\n",
    "plt.ylabel('hb_wid')\n",
    "plt.plot(X,Y,'g')\n",
    "plt.show()"
   ]
  },
  {
   "cell_type": "code",
   "execution_count": null,
   "metadata": {},
   "outputs": [],
   "source": []
  }
 ],
 "metadata": {
  "kernelspec": {
   "display_name": "Python 3",
   "language": "python",
   "name": "python3"
  },
  "language_info": {
   "codemirror_mode": {
    "name": "ipython",
    "version": 3
   },
   "file_extension": ".py",
   "mimetype": "text/x-python",
   "name": "python",
   "nbconvert_exporter": "python",
   "pygments_lexer": "ipython3",
   "version": "3.8.3"
  }
 },
 "nbformat": 4,
 "nbformat_minor": 4
}
